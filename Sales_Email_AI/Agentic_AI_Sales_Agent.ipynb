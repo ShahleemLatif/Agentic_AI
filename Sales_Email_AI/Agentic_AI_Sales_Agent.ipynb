{
 "cells": [
  {
   "cell_type": "markdown",
   "metadata": {},
   "source": [
    "# Automated AI Sales Email Generation System\n",
    "\n",
    "## 📖 Overview\n",
    "This notebook demonstrates a multi-agent AI system for automating the creation and sending of cold sales emails for a fictional company, **Pet Vet**. \n",
    "\n",
    "The workflow is as follows:\n",
    "1.  **Draft Generation**: Three distinct AI agents, each with a unique personality (professional, humorous, concise), generate email drafts.\n",
    "2.  **Selection**: A `Senior Sales Manager` agent reviews the drafts and selects the most promising one.\n",
    "3.  **Formatting & Sending**: The selected draft is handed off to an `Email Manager` agent, which generates a subject line, converts the body to HTML, and sends the final email using the SendGrid API."
   ]
  },
  {
   "cell_type": "markdown",
   "metadata": {},
   "source": [
    "## 1. Setup and Imports\n",
    "\n",
    "First, we import the necessary libraries. Ensure you have a `requirements.txt` file and have run `pip install -r requirements.txt`."
   ]
  },
  {
   "cell_type": "code",
   "execution_count": 1,
   "metadata": {},
   "outputs": [],
   "source": [
    "import os\n",
    "import json\n",
    "import asyncio\n",
    "from typing import Dict\n",
    "\n",
    "from dotenv import load_dotenv\n",
    "from openai import AsyncOpenAI\n",
    "import sendgrid\n",
    "from sendgrid.helpers.mail import Mail, Email, To, Content\n",
    "\n",
    "# Assuming 'agents' is a custom library as implied by the original code\n",
    "# You would need to have this library available in your environment.\n",
    "# pip install agents-dev\n",
    "from agents import Agent, Runner, trace, function_tool, OpenAIChatCompletionsModel"
   ]
  },
  {
   "cell_type": "markdown",
   "metadata": {},
   "source": [
    "## 2. API Configuration\n",
    "\n",
    "We load API keys from a `.env` file for security. This allows us to keep credentials out of the source code. The code also verifies that the keys have been loaded successfully."
   ]
  },
  {
   "cell_type": "code",
   "execution_count": 2,
   "metadata": {},
   "outputs": [
    {
     "name": "stdout",
     "output_type": "stream",
     "text": [
      "✅ OpenAI API Key is loaded.\n",
      "✅ Google Gemini API Key is loaded.\n",
      "✅ DeepSeek API Key is loaded.\n",
      "✅ Groq API Key is loaded.\n",
      "❌ SendGrid API Key is missing or not working.\n"
     ]
    }
   ],
   "source": [
    "load_dotenv(override=True)\n",
    "\n",
    "openai_api_key = os.getenv('OPENAI_API_KEY')\n",
    "google_api_key = os.getenv('GOOGLE_GEMINI_API_KEY')\n",
    "deepseek_api_key = os.getenv('DEEPSEEK_API_KEY')\n",
    "groq_api_key = os.getenv('GROQ_API_KEY')\n",
    "sendgrid_api_key = os.getenv('SENDGRID_API_KEY')\n",
    "\n",
    "api_keys = {\n",
    "    \"OpenAI\": openai_api_key,\n",
    "    \"Google Gemini\": google_api_key,\n",
    "    \"DeepSeek\": deepseek_api_key,\n",
    "    \"Groq\": groq_api_key,\n",
    "    \"SendGrid\": sendgrid_api_key\n",
    "}\n",
    "\n",
    "for name, key in api_keys.items():\n",
    "    if key:\n",
    "        print(f\"✅ {name} API Key is loaded.\")\n",
    "    else:\n",
    "        print(f\"❌ {name} API Key is missing or not working.\")"
   ]
  },
  {
   "cell_type": "markdown",
   "metadata": {},
   "source": [
    "## 3. Model and Client Initialization\n",
    "\n",
    "Here, we define the base URLs for the different model providers and initialize asynchronous clients for each. We then wrap them in the `OpenAIChatCompletionsModel` class from the `agents` library for a consistent interface."
   ]
  },
  {
   "cell_type": "code",
   "execution_count": 3,
   "metadata": {},
   "outputs": [],
   "source": [
    "# Base URLs for various model APIs\n",
    "GEMINI_BASE_URL = \"https://generativelanguage.googleapis.com/v1beta/\"\n",
    "DEEPSEEK_BASE_URL = \"https://api.deepseek.com/v1\"\n",
    "GROQ_BASE_URL = \"https://api.groq.com/openai/v1\"\n",
    "\n",
    "# Initialize clients for each service\n",
    "gemini_client = AsyncOpenAI(base_url=GEMINI_BASE_URL, api_key=google_api_key)\n",
    "groq_client = AsyncOpenAI(base_url=GROQ_BASE_URL, api_key=groq_api_key)\n",
    "deepseek_client = AsyncOpenAI(base_url=DEEPSEEK_BASE_URL, api_key=deepseek_api_key)\n",
    "\n",
    "# Define the models using a standardized interface\n",
    "# Note: The model names should be checked against the provider's documentation.\n",
    "# For Gemini, the format might be 'models/gemini-1.5-flash-latest'\n",
    "gemini_model = OpenAIChatCompletionsModel(model=\"models/gemini-1.5-flash-latest\", openai_client=gemini_client)\n",
    "llama3_model = OpenAIChatCompletionsModel(model=\"llama3-70b-8192\", openai_client=groq_client)\n",
    "deepseek_model = OpenAIChatCompletionsModel(model=\"deepseek-chat\", openai_client=deepseek_client)"
   ]
  },
  {
   "cell_type": "markdown",
   "metadata": {},
   "source": [
    "## 4. Agent Definitions\n",
    "\n",
    "We define the core AI agents that will perform specific tasks. Each agent is given a name, a set of instructions (its persona and goal), and an LLM to power its reasoning."
   ]
  },
  {
   "cell_type": "markdown",
   "metadata": {},
   "source": [
    "### 4.1. Sales Agents (The Drafters)\n",
    "\n",
    "These three agents are responsible for writing the initial email drafts. Each has a different style to provide a variety of options."
   ]
  },
  {
   "cell_type": "code",
   "execution_count": null,
   "metadata": {},
   "outputs": [],
   "source": [
    "instructions1 = \"\"\"\n",
    "You are a professional, serious sales agent for Pet Vet, a SaaS platform that simplifies scheduling, payments, and management for veterinary practices. \n",
    "Your task is to write a formal and respectful cold email.\n",
    "\"\"\"\n",
    "\n",
    "instructions2 = \"\"\"\n",
    "You are a humorous, engaging sales agent for Pet Vet, a SaaS platform for veterinary practices. \n",
    "Your task is to write a witty, engaging cold email that is memorable and likely to get a response.\n",
    "\"\"\"\n",
    "\n",
    "instructions3 = \"\"\"\n",
    "You are a busy, efficient sales agent for Pet Vet, a SaaS platform for veterinary practices. \n",
    "Your task is to write a concise, to-the-point cold email that respects the recipient's time.\n",
    "\"\"\"\n",
    "\n",
    "sales_agent1 = Agent(name=\"DeepSeek_Sales_Agent (Professional)\", instructions=instructions1, model=deepseek_model)\n",
    "sales_agent2 = Agent(name=\"Gemini_Sales_Agent (Humorous)\", instructions=instructions2, model=gemini_model)\n",
    "sales_agent3 = Agent(name=\"Llama3_Sales_Agent (Concise)\", instructions=instructions3, model=llama3_model)"
   ]
  },
  {
   "cell_type": "markdown",
   "metadata": {},
   "source": [
    "### 4.2. Formatting and Sending Agents (The Finishers)\n",
    "\n",
    "These agents handle the final steps of preparing and sending the email. They are defined first so they can be passed as `handoffs` to the manager agent."
   ]
  },
  {
   "cell_type": "code",
   "execution_count": 6,
   "metadata": {},
   "outputs": [],
   "source": [
    "@function_tool\n",
    "def send_html_email(subject: str, html_body: str) -> Dict[str, str]:\n",
    "    \"\"\"Sends an HTML email with a given subject and body using SendGrid.\"\"\"\n",
    "    try:\n",
    "        sg = sendgrid.SendGridAPIClient(api_key=os.environ.get('SENDGRID_API_KEY'))\n",
    "        \n",
    "        # IMPORTANT: Replace with your verified sender and desired recipient\n",
    "        from_email = Email(\"your_verified_sender@example.com\") \n",
    "        to_email = To(\"recipient@example.com\")  \n",
    "        \n",
    "        content = Content(\"text/html\", html_body)\n",
    "        mail = Mail(from_email, to_email, subject, content)\n",
    "        \n",
    "        response = sg.client.mail.send.post(request_body=mail.get())\n",
    "        \n",
    "        if response.status_code == 222:\n",
    "             return {\"status\": \"success\", \"message\": f\"Email sent with status code {response.status_code}\"}\n",
    "        else:\n",
    "             return {\"status\": \"error\", \"message\": f\"Failed to send email. Status: {response.status_code}, Body: {response.body}\"}\n",
    "    except Exception as e:\n",
    "        return {\"status\": \"error\", \"message\": str(e)}"
   ]
  },
  {
   "cell_type": "code",
   "execution_count": 7,
   "metadata": {},
   "outputs": [],
   "source": [
    "subject_instructions = \"You are an expert copywriter. Your task is to write a compelling, short, and effective subject line for a given cold sales email body.\"\n",
    "html_instructions = \"You are a web designer. Your task is to convert a plain text email body (which may include markdown) into a clean, professional, and responsive HTML email body. Use simple styles.\"\n",
    "\n",
    "subject_writer = Agent(name=\"Subject_Writer\", instructions=subject_instructions, model=\"gpt-4o-mini\")\n",
    "subject_tool = subject_writer.as_tool(tool_name=\"subject_writer\", tool_description=\"Writes a subject for a cold sales email.\")\n",
    "\n",
    "html_converter = Agent(name=\"HTML_Converter\", instructions=html_instructions, model=\"gpt-4o-mini\")\n",
    "html_tool = html_converter.as_tool(tool_name=\"html_converter\", tool_description=\"Converts a plain text email body to an HTML email body.\")\n",
    "\n",
    "email_formatter_instructions = \"\"\"\n",
    "You are an email formatting and sending specialist. Your process is:\n",
    "1. Receive the final plain text body of an email.\n",
    "2. Use the `subject_writer` tool to generate a subject line.\n",
    "3. Use the `html_converter` tool to transform the plain text body into HTML.\n",
    "4. Use the `send_html_email` tool to send the final email with the generated subject and HTML body.\n",
    "\"\"\"\n",
    "\n",
    "email_manager_tools = [subject_tool, html_tool, send_html_email]\n",
    "\n",
    "emailer_agent = Agent(\n",
    "    name=\"Email_Manager\",\n",
    "    instructions=email_formatter_instructions,\n",
    "    tools=email_manager_tools,\n",
    "    model=\"gpt-4o-mini\",\n",
    "    handoff_description=\"Formats and sends the final email.\"\n",
    ")"
   ]
  },
  {
   "cell_type": "markdown",
   "metadata": {},
   "source": [
    "### 4.3. Senior Sales Manager (The Orchestrator)\n",
    "\n",
    "This agent manages the entire process. It uses the sales agents as tools to generate drafts, makes a final decision, and then hands off the selected email to the `emailer_agent` for final processing."
   ]
  },
  {
   "cell_type": "code",
   "execution_count": null,
   "metadata": {},
   "outputs": [],
   "source": [
    "description = \"Use this tool to write a cold sales email draft.\"\n",
    "tool1 = sales_agent1.as_tool(tool_name=\"professional_sales_agent\", tool_description=description)\n",
    "tool2 = sales_agent2.as_tool(tool_name=\"humorous_sales_agent\", tool_description=description)\n",
    "tool3 = sales_agent3.as_tool(tool_name=\"concise_sales_agent\", tool_description=description)\n",
    "\n",
    "manager_tools = [tool1, tool2, tool3]\n",
    "handoffs = [emailer_agent]\n",
    "\n",
    "senior_sales_manager_instructions = \"\"\"\n",
    "You are a Senior Sales Manager at Pet Vet. Your goal is to send the most effective cold sales email possible.\n",
    "\n",
    "Follow these steps carefully:\n",
    "1. **Generate Drafts**: Use all three sales agent tools (`professional_sales_agent`, `humorous_sales_agent`, `concise_sales_agent`) to generate three different email drafts based on the user's request.\n",
    "2. **Evaluate and Select**: Review the three drafts and choose the single best email. Use your judgment to determine which one is most likely to be effective.\n",
    "3. **Handoff for Sending**: After selecting the best email, hand it off to the `Email_Manager` agent to handle the final formatting and sending.\n",
    "\n",
    "**Crucial Rules**:\n",
    "- You must use the sales agent tools to generate the drafts—do not write them yourself.\n",
    "- You must select only ONE email to handoff.\n",
    "- You must use the handoff feature to pass the selected email to the `Email_Manager`.\n",
    "\"\"\"\n",
    "\n",
    "senior_sales_manager = Agent(\n",
    "    name=\"Senior_Sales_Manager\",\n",
    "    instructions=senior_sales_manager_instructions,\n",
    "    tools=manager_tools,\n",
    "    handoffs=handoffs,\n",
    "    model=\"gpt-4o-mini\"\n",
    ")"
   ]
  },
  {
   "cell_type": "markdown",
   "metadata": {},
   "source": [
    "## 5. Execution\n",
    "\n",
    "This is the final step where we run the entire system. We provide an initial message to the `senior_sales_manager` and the `Runner` executes the defined workflow. The `trace` context manager provides detailed logging of the agent's actions and thoughts."
   ]
  },
  {
   "cell_type": "code",
   "execution_count": null,
   "metadata": {},
   "outputs": [
    {
     "name": "stdout",
     "output_type": "stream",
     "text": [
      "--- Starting Automated SDR Workflow ---\n",
      "Initial Prompt: Send a cold sales email addressed to 'Dear Clinic Director' from 'Alex at DaySmart Vet'.\n",
      "--- Workflow Complete ---\n",
      "Final Result: RunResult:\n",
      "- Last agent: Agent(name=\"Email_Manager\", ...)\n",
      "- Final output (str):\n",
      "    It looks like there was an issue while attempting to send the email. \n",
      "    \n",
      "    To proceed, please confirm that you have the necessary credentials for sending the email or let me know if you'd like to provide the details again for the transaction.\n",
      "- 30 new item(s)\n",
      "- 8 raw response(s)\n",
      "- 0 input guardrail result(s)\n",
      "- 0 output guardrail result(s)\n",
      "(See `RunResult` for more details)\n"
     ]
    }
   ],
   "source": [
    "async def main():\n",
    "    # The initial prompt that kicks off the entire process\n",
    "    message = \"Send a cold sales email addressed to 'Dear Clinic Director' from 'Alex at Pet Vet'.\"\n",
    "    \n",
    "    print(f\"--- Starting Automated SDR Workflow ---\")\n",
    "    print(f\"Initial Prompt: {message}\")\n",
    "    \n",
    "    with trace(\"Automated_SDR\"):\n",
    "        result = await Runner.run(senior_sales_manager, message)\n",
    "    \n",
    "    print(f\"--- Workflow Complete ---\")\n",
    "    print(f\"Final Result: {result}\")\n",
    "\n",
    "# Run the asynchronous main function\n",
    "# In a Jupyter environment, you might need to handle the event loop differently\n",
    "# if you get a 'RuntimeError: This event loop is already running'.\n",
    "await main()"
   ]
  }
 ],
 "metadata": {
  "kernelspec": {
   "display_name": ".venv",
   "language": "python",
   "name": "python3"
  },
  "language_info": {
   "codemirror_mode": {
    "name": "ipython",
    "version": 3
   },
   "file_extension": ".py",
   "mimetype": "text/x-python",
   "name": "python",
   "nbconvert_exporter": "python",
   "pygments_lexer": "ipython3",
   "version": "3.12.7"
  }
 },
 "nbformat": 4,
 "nbformat_minor": 4
}
